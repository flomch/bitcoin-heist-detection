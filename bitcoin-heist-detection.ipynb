{
 "cells": [
  {
   "cell_type": "code",
   "execution_count": 14,
   "metadata": {
    "colab": {
     "base_uri": "https://localhost:8080/"
    },
    "id": "dR_PGkNOZ1B-",
    "outputId": "706bf546-f31c-488c-fd77-892ce83e4204"
   },
   "outputs": [
    {
     "name": "stdout",
     "output_type": "stream",
     "text": [
      "  % Total    % Received % Xferd  Average Speed   Time    Time     Time  Current\n",
      "                                 Dload  Upload   Total   Spent    Left  Speed\n",
      "100 43.7M  100 43.7M    0     0  57.6M      0 --:--:-- --:--:-- --:--:-- 57.6M\n"
     ]
    }
   ],
   "source": [
    "!pip -q install imbalanced-learn==0.8.0\n",
    "!curl 'https://media.githubusercontent.com/media/flomch/bitcoin-heist-detection/main/bitcoin-heist.csv' > bitcoin-heist.csv"
   ]
  },
  {
   "cell_type": "code",
   "execution_count": 2,
   "metadata": {
    "colab": {
     "base_uri": "https://localhost:8080/"
    },
    "id": "V0D5pYHmc18Y",
    "outputId": "c73cec13-6fed-46d9-98ff-9379b69e1665"
   },
   "outputs": [
    {
     "name": "stderr",
     "output_type": "stream",
     "text": [
      "/usr/local/lib/python3.7/dist-packages/sklearn/externals/six.py:31: FutureWarning: The module is deprecated in version 0.21 and will be removed in version 0.23 since we've dropped support for Python 2.7. Please rely on the official version of six (https://pypi.org/project/six/).\n",
      "  \"(https://pypi.org/project/six/).\", FutureWarning)\n",
      "/usr/local/lib/python3.7/dist-packages/sklearn/utils/deprecation.py:144: FutureWarning: The sklearn.neighbors.base module is  deprecated in version 0.22 and will be removed in version 0.24. The corresponding classes / functions should instead be imported from sklearn.neighbors. Anything that cannot be imported from sklearn.neighbors is now part of the private API.\n",
      "  warnings.warn(message, FutureWarning)\n"
     ]
    }
   ],
   "source": [
    "import pandas as pd\n",
    "import numpy as np\n",
    "import matplotlib.pylab as plt\n",
    "from scipy.stats import mode\n",
    "\n",
    "\n",
    "from   sklearn.model_selection    import *\n",
    "from   sklearn.compose            import *\n",
    "from   sklearn.ensemble           import RandomForestClassifier, ExtraTreesClassifier, IsolationForest\n",
    "from   sklearn.experimental       import enable_iterative_imputer\n",
    "from   sklearn.impute             import *\n",
    "from   sklearn.linear_model       import *\n",
    "from   sklearn.metrics            import *  \n",
    "from   sklearn.pipeline           import Pipeline\n",
    "from   sklearn.preprocessing      import *\n",
    "from   sklearn.tree               import DecisionTreeClassifier, ExtraTreeClassifier\n",
    "from   sklearn.svm                import SVC\n",
    "from   sklearn.neighbors          import *\n",
    "from   sklearn.inspection         import permutation_importance\n",
    "from   sklearn.base               import BaseEstimator, TransformerMixin\n",
    "\n",
    "\n",
    "# from rfpimp import *\n",
    "import imblearn.pipeline as imbPipe\n",
    "import imblearn\n",
    "from imblearn.over_sampling import *\n",
    "from imblearn.under_sampling import *\n",
    "\n",
    "\n",
    "# turn off convergence warning\n",
    "import warnings\n",
    "with warnings.catch_warnings():\n",
    "    warnings.filterwarnings('ignore', 'Solver terminated early.*')\n",
    "\n",
    "pd.options.display.float_format = '{:.5f}'.format\n",
    "%config InlineBackend.figure_format='retina'\n"
   ]
  },
  {
   "cell_type": "code",
   "execution_count": 16,
   "metadata": {
    "id": "eGYArmGEccca"
   },
   "outputs": [],
   "source": [
    "df = pd.read_csv('bitcoin-heist.csv')\n",
    "\n",
    "X = df.drop(columns='label')\n",
    "y = df.label"
   ]
  },
  {
   "cell_type": "code",
   "execution_count": 17,
   "metadata": {
    "colab": {
     "base_uri": "https://localhost:8080/"
    },
    "id": "elZSQWDic6QA",
    "outputId": "5b3bc65b-0e3d-4054-f6fb-368797136732"
   },
   "outputs": [
    {
     "name": "stdout",
     "output_type": "stream",
     "text": [
      "Total rows: 583339.   Total columns: 10)\n",
      "\n",
      "Target variable distribution\n",
      "0    575056\n",
      "1      8283\n",
      "Name: label, dtype: int64\n"
     ]
    }
   ],
   "source": [
    "print(f'Total rows: {len(df)}.   Total columns: {len(df.columns)})')\n",
    "print()\n",
    "print('Target variable distribution')\n",
    "print(y.value_counts(dropna=False))"
   ]
  },
  {
   "cell_type": "markdown",
   "metadata": {
    "id": "NDbnvDTb55kn"
   },
   "source": [
    "# Preprocessing"
   ]
  },
  {
   "cell_type": "code",
   "execution_count": 18,
   "metadata": {
    "id": "_H8q3ycamQUo"
   },
   "outputs": [],
   "source": [
    "# removed address from features, since they are randomly assigned ids\n",
    "useful_features = ['year','day','length','weight','count', 'looped', 'neighbors', 'income']\n",
    "\n",
    "# features with highly right skewed distribution will be log transformed\n",
    "log_features = ['weight','count', 'looped', 'neighbors', 'income']\n",
    "\n",
    "# create X preprocessing pipeline\n",
    "# there are no categorical vars, hence only one numeric imputer is needed\n",
    "\n",
    "prep = ColumnTransformer([# imputate missing numeric data (if any)\n",
    "                          ('imputer', SimpleImputer(strategy='median', add_indicator=True), useful_features),\n",
    "                          \n",
    "                          # log transform\n",
    "                          ('log_transform', FunctionTransformer(lambda x: np.log(x+1)), log_features),  \n",
    "                          \n",
    "                          # standardize models for faster/more accurate fitting\n",
    "                          ('standard', StandardScaler(), useful_features)]\n",
    "                           \n",
    "                          # drop any columns not treated above. \n",
    "                          ,remainder='drop'\n",
    "                          )"
   ]
  },
  {
   "cell_type": "markdown",
   "metadata": {
    "id": "xA0Y3iEsIKpu"
   },
   "source": [
    "# Model Search\n",
    "## Step 1: Random Grid Search\n",
    "In this step, I will execute random grid search on hyperparameters for Logistic Regression, Random Forest, and Extra Tree Forest. This will provide a rough sense of good models to further fine-tune.\n",
    "\n",
    "## Step 2: Parameter Grid Search\n",
    "The top 5 models from step 1 will be exhaustively searched against an upsampling technique, SMOTE, and a downsampling technique, Random Under Sampler, using parameter grid search. \n",
    "\n",
    "**Question: Why not also search for sampling techniques in step 1?**   \n",
    "Resampling techniques, especially SMOTE, is time-costly. Random grid search will not finish running in a day if I added resampling to each of the 20 iterations (for a total of 100 fits)!   \n",
    "    \n",
    "      \n",
    "-----\n",
    "\n",
    "# Evaluation Metrics\n",
    "The classic quartet: F1, ROC/AUC, precision, recall\n",
    "* Recall: of the true ransomeware accounts, how many did the model identify.\n",
    "* Precision: of the ransomware accounts the model has identified, how many were actually true.\n",
    "* This task requires a fine balance between precision and recall. On the one hand, we don't want to falsely predict many white accounts as ransomeware, but on the other hand, we don't want to miss too many ransomware accounts.\n",
    "* Hence, on top of examining precision/recall individually, F1 and ROC/AUC provide a more balanced overview of the model's performance. \n",
    "\n",
    "\n"
   ]
  },
  {
   "cell_type": "code",
   "execution_count": 19,
   "metadata": {
    "id": "_brp0z-KTix5"
   },
   "outputs": [],
   "source": [
    "# split dataframe\n",
    "X_train, X_test, y_train, y_test = train_test_split(X, y, train_size=0.8, random_state=1, stratify=y)"
   ]
  },
  {
   "cell_type": "code",
   "execution_count": 20,
   "metadata": {
    "id": "wGPI3f3BTmkh"
   },
   "outputs": [],
   "source": [
    "# create dummy estimator to allow random search on a few models\n",
    "\n",
    "class DummyTransformer():\n",
    "    def fit_resample(self): pass\n",
    "    \n",
    "class DummyEstimator(BaseEstimator):\n",
    "    def fit(self): pass\n",
    "    def score(self): pass"
   ]
  },
  {
   "cell_type": "markdown",
   "metadata": {
    "id": "1m7IS3O7CC42"
   },
   "source": [
    "## Step 1: Random Grid Search"
   ]
  },
  {
   "cell_type": "code",
   "execution_count": null,
   "metadata": {
    "colab": {
     "base_uri": "https://localhost:8080/"
    },
    "id": "AdnHODVtw279",
    "outputId": "548d000a-fe9a-414b-865b-3418f3ef2d27"
   },
   "outputs": [
    {
     "name": "stdout",
     "output_type": "stream",
     "text": [
      "Fitting 5 folds for each of 20 candidates, totalling 100 fits\n",
      "RANDOM SEARCH COMPLETE\n"
     ]
    }
   ],
   "source": [
    "pipe = imbPipe.Pipeline(steps=[('prep', prep),\n",
    "                               ('estimator', DummyEstimator())])\n",
    "\n",
    "# create search space on logistic regression, ensemblers,\n",
    "search_space = [\n",
    "                # Logistic Regression hyperparms\n",
    "                dict(estimator=[LogisticRegression(warm_start=True, n_jobs=-1)],\n",
    "                     estimator__C=[0.01, 0.5, 1, 2, 3, 10, 100] # regularization strength, smaller is stronger\n",
    "                    ),\n",
    "                \n",
    "                # Random Forest hyperparms\n",
    "                dict(estimator=[RandomForestClassifier(n_jobs=-1)],\n",
    "                     estimator__n_estimators=[30, 50, 100],  # affects validation variance\n",
    "                     \n",
    "                     # imbalanced dataset, weights used to bring out minority case more\n",
    "                     estimator__class_weight=['balanced', 'balanced_subsample', \n",
    "                                              {0:1,1:20}, {0:1,1:35}, {0:1,1:70}],\n",
    "                     \n",
    "                     # hyperparm below all used for balancing between overfitting and accuracy\n",
    "                     estimator__max_features=['sqrt','auto', 2, 4, 6, 8],  \n",
    "                     estimator__max_depth=[None, 5, 10, 15, 20],\n",
    "                     estimator__min_samples_split=[2, 5, 10],\n",
    "                     estimator__min_samples_leaf=[1,3,5,7],\n",
    "                     estimator__bootstrap=[True, False]\n",
    "                    ),\n",
    "                \n",
    "                dict(\n",
    "                     estimator=[ExtraTreesClassifier(n_jobs=-1)],\n",
    "                     # imbalanced dataset, weights used to bring out minority case more\n",
    "                     estimator__class_weight=['balanced', 'balanced_subsample', {0:1,1:20}, {0:1,1:35}, {0:1,1:70}],\n",
    "\n",
    "                     # hyperparm below all used for balancing between overfitting and accuracy\n",
    "                     estimator__n_estimators=[30, 50, 100],\n",
    "                     estimator__max_features=['sqrt','auto', 2, 4, 6, 8],\n",
    "                     estimator__max_depth=[None, 5, 10, 15, 20],\n",
    "                     estimator__min_samples_split=[2, 5, 10],\n",
    "                     estimator__min_samples_leaf=[1,3,5,7],\n",
    "                     estimator__bootstrap=[True, False]\n",
    "                     )]\n",
    "\n",
    "# evaluation metrics\n",
    "scoring =['recall', 'precision', 'f1', 'roc_auc']\n",
    "\n",
    "# random grid search across models and their hyperparms\n",
    "clf_rand = RandomizedSearchCV(estimator=pipe, \n",
    "                              param_distributions=search_space, \n",
    "                              n_iter=20,\n",
    "                              scoring=scoring,\n",
    "                              cv=5,\n",
    "                              verbose=5,\n",
    "                              refit=False,\n",
    "                              n_jobs=-1,\n",
    "                              random_state=0\n",
    "                              )\n",
    "clf_rand.fit(X_train, y_train) \n",
    "print('RANDOM GRID SEARCH COMPLETE')"
   ]
  },
  {
   "cell_type": "code",
   "execution_count": null,
   "metadata": {
    "id": "qoPvBGihWSy_"
   },
   "outputs": [],
   "source": [
    "# extract cv results into dataframe\n",
    "cv_results = pd.DataFrame(clf_rand.cv_results_)\n"
   ]
  },
  {
   "cell_type": "markdown",
   "metadata": {
    "id": "lksPD_j_G3NZ"
   },
   "source": [
    "# Chose candidate models for further tuning\n",
    "Models were evaluated based on their mean ranking across the four metrics (F1, precision, recall, and ROC/AUC). Top 5 models with highest mean rank were selected as candidates."
   ]
  },
  {
   "cell_type": "code",
   "execution_count": null,
   "metadata": {
    "colab": {
     "base_uri": "https://localhost:8080/",
     "height": 198
    },
    "id": "e2Xx2NwfjDG8",
    "outputId": "3189bf46-45e0-4953-ce83-9408ba91b438"
   },
   "outputs": [
    {
     "data": {
      "text/html": [
       "<div>\n",
       "<style scoped>\n",
       "    .dataframe tbody tr th:only-of-type {\n",
       "        vertical-align: middle;\n",
       "    }\n",
       "\n",
       "    .dataframe tbody tr th {\n",
       "        vertical-align: top;\n",
       "    }\n",
       "\n",
       "    .dataframe thead th {\n",
       "        text-align: right;\n",
       "    }\n",
       "</style>\n",
       "<table border=\"1\" class=\"dataframe\">\n",
       "  <thead>\n",
       "    <tr style=\"text-align: right;\">\n",
       "      <th></th>\n",
       "      <th>param_estimator</th>\n",
       "      <th>params</th>\n",
       "      <th>rank_mean</th>\n",
       "      <th>rank_mode</th>\n",
       "      <th>mean_test_recall</th>\n",
       "      <th>mean_test_precision</th>\n",
       "      <th>mean_test_f1</th>\n",
       "      <th>mean_test_roc_auc</th>\n",
       "      <th>rank_test_recall</th>\n",
       "      <th>rank_test_precision</th>\n",
       "      <th>rank_test_f1</th>\n",
       "      <th>rank_test_roc_auc</th>\n",
       "    </tr>\n",
       "  </thead>\n",
       "  <tbody>\n",
       "    <tr>\n",
       "      <th>11</th>\n",
       "      <td>RandomForestClassifier(n_jobs=-1)</td>\n",
       "      <td>{'estimator__n_estimators': 50, 'estimator__mi...</td>\n",
       "      <td>6.00000</td>\n",
       "      <td>([5], [2])</td>\n",
       "      <td>0.65945</td>\n",
       "      <td>0.22329</td>\n",
       "      <td>0.33341</td>\n",
       "      <td>0.94235</td>\n",
       "      <td>13</td>\n",
       "      <td>5</td>\n",
       "      <td>5</td>\n",
       "      <td>1</td>\n",
       "    </tr>\n",
       "    <tr>\n",
       "      <th>19</th>\n",
       "      <td>RandomForestClassifier(n_jobs=-1)</td>\n",
       "      <td>{'estimator__n_estimators': 100, 'estimator__m...</td>\n",
       "      <td>7.00000</td>\n",
       "      <td>([2], [1])</td>\n",
       "      <td>0.44769</td>\n",
       "      <td>0.32663</td>\n",
       "      <td>0.37760</td>\n",
       "      <td>0.93214</td>\n",
       "      <td>17</td>\n",
       "      <td>2</td>\n",
       "      <td>3</td>\n",
       "      <td>6</td>\n",
       "    </tr>\n",
       "    <tr>\n",
       "      <th>5</th>\n",
       "      <td>RandomForestClassifier(n_jobs=-1)</td>\n",
       "      <td>{'estimator__n_estimators': 30, 'estimator__mi...</td>\n",
       "      <td>7.00000</td>\n",
       "      <td>([2], [1])</td>\n",
       "      <td>0.52990</td>\n",
       "      <td>0.31302</td>\n",
       "      <td>0.39354</td>\n",
       "      <td>0.93020</td>\n",
       "      <td>15</td>\n",
       "      <td>4</td>\n",
       "      <td>2</td>\n",
       "      <td>7</td>\n",
       "    </tr>\n",
       "    <tr>\n",
       "      <th>2</th>\n",
       "      <td>ExtraTreesClassifier(n_jobs=-1)</td>\n",
       "      <td>{'estimator__n_estimators': 30, 'estimator__mi...</td>\n",
       "      <td>7.25000</td>\n",
       "      <td>([3], [1])</td>\n",
       "      <td>0.77106</td>\n",
       "      <td>0.11173</td>\n",
       "      <td>0.19515</td>\n",
       "      <td>0.93560</td>\n",
       "      <td>7</td>\n",
       "      <td>10</td>\n",
       "      <td>9</td>\n",
       "      <td>3</td>\n",
       "    </tr>\n",
       "    <tr>\n",
       "      <th>10</th>\n",
       "      <td>RandomForestClassifier(n_jobs=-1)</td>\n",
       "      <td>{'estimator__n_estimators': 50, 'estimator__mi...</td>\n",
       "      <td>7.25000</td>\n",
       "      <td>([8], [2])</td>\n",
       "      <td>0.70414</td>\n",
       "      <td>0.15695</td>\n",
       "      <td>0.25663</td>\n",
       "      <td>0.93726</td>\n",
       "      <td>11</td>\n",
       "      <td>8</td>\n",
       "      <td>8</td>\n",
       "      <td>2</td>\n",
       "    </tr>\n",
       "  </tbody>\n",
       "</table>\n",
       "</div>"
      ],
      "text/plain": [
       "                      param_estimator  ... rank_test_roc_auc\n",
       "11  RandomForestClassifier(n_jobs=-1)  ...                 1\n",
       "19  RandomForestClassifier(n_jobs=-1)  ...                 6\n",
       "5   RandomForestClassifier(n_jobs=-1)  ...                 7\n",
       "2     ExtraTreesClassifier(n_jobs=-1)  ...                 3\n",
       "10  RandomForestClassifier(n_jobs=-1)  ...                 2\n",
       "\n",
       "[5 rows x 12 columns]"
      ]
     },
     "execution_count": 37,
     "metadata": {
      "tags": []
     },
     "output_type": "execute_result"
    }
   ],
   "source": [
    "# get models' mean ranking across all 4 evaluation metrics\n",
    "cv_results['rank_mean'] = cv_results[['rank_test_recall','rank_test_precision', 'rank_test_f1', 'rank_test_roc_auc']].mean(axis=1)\n",
    "cv_results['rank_mode'] = cv_results[['rank_test_recall','rank_test_precision', 'rank_test_f1', 'rank_test_roc_auc']].apply(lambda x: mode(x), axis=1)\n",
    "\n",
    "cols = ['param_estimator','params', 'rank_mean', 'rank_mode', 'mean_test_recall','mean_test_precision', 'mean_test_f1', 'mean_test_roc_auc',\n",
    "        'rank_test_recall','rank_test_precision', 'rank_test_f1', 'rank_test_roc_auc']\n",
    "\n",
    "print('Top 5 models from random grid search')\n",
    "cv_results[cols].sort_values('rank_mean').head(5)\n"
   ]
  },
  {
   "cell_type": "code",
   "execution_count": null,
   "metadata": {
    "id": "oFsFy65IpWnH"
   },
   "outputs": [],
   "source": [
    "candidate_models = cv_results[cols].sort_values('rank_mean')['params'].head(5)"
   ]
  },
  {
   "cell_type": "markdown",
   "metadata": {
    "id": "TNIerKnGvwJz"
   },
   "source": [
    "## Step 2: Parameter Grid Search\n",
    "Sampling techniques: SMOTE, RandomUnderSampler"
   ]
  },
  {
   "cell_type": "code",
   "execution_count": null,
   "metadata": {
    "colab": {
     "base_uri": "https://localhost:8080/"
    },
    "collapsed": true,
    "id": "0vGPgaxRoYr0",
    "jupyter": {
     "outputs_hidden": true
    },
    "outputId": "cc906640-b5ad-4b96-ee71-f94bcb3b63ba"
   },
   "outputs": [
    {
     "name": "stdout",
     "output_type": "stream",
     "text": [
      "Fitting 5 folds for each of 10 candidates, totalling 50 fits\n",
      "[CV] END estimator=RandomForestClassifier(max_depth=15, max_features=8, min_samples_leaf=3,\n",
      "                       n_estimators=50, n_jobs=-1), sampling=RandomUnderSampler(random_state=0); total time=   4.5s\n",
      "[CV] END estimator=RandomForestClassifier(max_depth=15, max_features=8, min_samples_leaf=3,\n",
      "                       n_estimators=50, n_jobs=-1), sampling=RandomUnderSampler(random_state=0); total time=   3.2s\n",
      "[CV] END estimator=RandomForestClassifier(max_depth=15, max_features=8, min_samples_leaf=3,\n",
      "                       n_estimators=50, n_jobs=-1), sampling=RandomUnderSampler(random_state=0); total time=   3.2s\n",
      "[CV] END estimator=RandomForestClassifier(max_depth=15, max_features=8, min_samples_leaf=3,\n",
      "                       n_estimators=50, n_jobs=-1), sampling=RandomUnderSampler(random_state=0); total time=   3.2s\n",
      "[CV] END estimator=RandomForestClassifier(max_depth=15, max_features=8, min_samples_leaf=3,\n",
      "                       n_estimators=50, n_jobs=-1), sampling=RandomUnderSampler(random_state=0); total time=   3.2s\n",
      "[CV] END estimator=RandomForestClassifier(max_depth=15, max_features=8, min_samples_leaf=3,\n",
      "                       n_estimators=50, n_jobs=-1), sampling=SMOTE(random_state=0); total time= 2.5min\n",
      "[CV] END estimator=RandomForestClassifier(max_depth=15, max_features=8, min_samples_leaf=3,\n",
      "                       n_estimators=50, n_jobs=-1), sampling=SMOTE(random_state=0); total time= 2.5min\n",
      "[CV] END estimator=RandomForestClassifier(max_depth=15, max_features=8, min_samples_leaf=3,\n",
      "                       n_estimators=50, n_jobs=-1), sampling=SMOTE(random_state=0); total time= 2.5min\n",
      "[CV] END estimator=RandomForestClassifier(max_depth=15, max_features=8, min_samples_leaf=3,\n",
      "                       n_estimators=50, n_jobs=-1), sampling=SMOTE(random_state=0); total time= 2.5min\n",
      "[CV] END estimator=RandomForestClassifier(max_depth=15, max_features=8, min_samples_leaf=3,\n",
      "                       n_estimators=50, n_jobs=-1), sampling=SMOTE(random_state=0); total time= 2.4min\n",
      "[CV] END estimator=RandomForestClassifier(max_features=2, min_samples_leaf=5, min_samples_split=5,\n",
      "                       n_jobs=-1), sampling=RandomUnderSampler(random_state=0); total time=   4.0s\n",
      "[CV] END estimator=RandomForestClassifier(max_features=2, min_samples_leaf=5, min_samples_split=5,\n",
      "                       n_jobs=-1), sampling=RandomUnderSampler(random_state=0); total time=   4.0s\n",
      "[CV] END estimator=RandomForestClassifier(max_features=2, min_samples_leaf=5, min_samples_split=5,\n",
      "                       n_jobs=-1), sampling=RandomUnderSampler(random_state=0); total time=   4.0s\n",
      "[CV] END estimator=RandomForestClassifier(max_features=2, min_samples_leaf=5, min_samples_split=5,\n",
      "                       n_jobs=-1), sampling=RandomUnderSampler(random_state=0); total time=   4.0s\n",
      "[CV] END estimator=RandomForestClassifier(max_features=2, min_samples_leaf=5, min_samples_split=5,\n",
      "                       n_jobs=-1), sampling=RandomUnderSampler(random_state=0); total time=   4.0s\n",
      "[CV] END estimator=RandomForestClassifier(max_features=2, min_samples_leaf=5, min_samples_split=5,\n",
      "                       n_jobs=-1), sampling=SMOTE(random_state=0); total time= 2.1min\n",
      "[CV] END estimator=RandomForestClassifier(max_features=2, min_samples_leaf=5, min_samples_split=5,\n",
      "                       n_jobs=-1), sampling=SMOTE(random_state=0); total time= 2.1min\n",
      "[CV] END estimator=RandomForestClassifier(max_features=2, min_samples_leaf=5, min_samples_split=5,\n",
      "                       n_jobs=-1), sampling=SMOTE(random_state=0); total time= 2.2min\n",
      "[CV] END estimator=RandomForestClassifier(max_features=2, min_samples_leaf=5, min_samples_split=5,\n",
      "                       n_jobs=-1), sampling=SMOTE(random_state=0); total time= 2.1min\n",
      "[CV] END estimator=RandomForestClassifier(max_features=2, min_samples_leaf=5, min_samples_split=5,\n",
      "                       n_jobs=-1), sampling=SMOTE(random_state=0); total time= 2.0min\n",
      "[CV] END estimator=RandomForestClassifier(min_samples_leaf=7, n_estimators=30, n_jobs=-1), sampling=RandomUnderSampler(random_state=0); total time=   2.1s\n",
      "[CV] END estimator=RandomForestClassifier(min_samples_leaf=7, n_estimators=30, n_jobs=-1), sampling=RandomUnderSampler(random_state=0); total time=   2.1s\n",
      "[CV] END estimator=RandomForestClassifier(min_samples_leaf=7, n_estimators=30, n_jobs=-1), sampling=RandomUnderSampler(random_state=0); total time=   2.2s\n",
      "[CV] END estimator=RandomForestClassifier(min_samples_leaf=7, n_estimators=30, n_jobs=-1), sampling=RandomUnderSampler(random_state=0); total time=   2.1s\n",
      "[CV] END estimator=RandomForestClassifier(min_samples_leaf=7, n_estimators=30, n_jobs=-1), sampling=RandomUnderSampler(random_state=0); total time=   2.1s\n",
      "[CV] END estimator=RandomForestClassifier(min_samples_leaf=7, n_estimators=30, n_jobs=-1), sampling=SMOTE(random_state=0); total time=  59.4s\n",
      "[CV] END estimator=RandomForestClassifier(min_samples_leaf=7, n_estimators=30, n_jobs=-1), sampling=SMOTE(random_state=0); total time=  59.0s\n",
      "[CV] END estimator=RandomForestClassifier(min_samples_leaf=7, n_estimators=30, n_jobs=-1), sampling=SMOTE(random_state=0); total time= 1.0min\n",
      "[CV] END estimator=RandomForestClassifier(min_samples_leaf=7, n_estimators=30, n_jobs=-1), sampling=SMOTE(random_state=0); total time=  58.8s\n",
      "[CV] END estimator=RandomForestClassifier(min_samples_leaf=7, n_estimators=30, n_jobs=-1), sampling=SMOTE(random_state=0); total time= 1.0min\n",
      "[CV] END estimator=ExtraTreesClassifier(max_depth=15, max_features=8, min_samples_leaf=7,\n",
      "                     min_samples_split=10, n_estimators=30, n_jobs=-1), sampling=RandomUnderSampler(random_state=0); total time=   1.9s\n",
      "[CV] END estimator=ExtraTreesClassifier(max_depth=15, max_features=8, min_samples_leaf=7,\n",
      "                     min_samples_split=10, n_estimators=30, n_jobs=-1), sampling=RandomUnderSampler(random_state=0); total time=   1.9s\n",
      "[CV] END estimator=ExtraTreesClassifier(max_depth=15, max_features=8, min_samples_leaf=7,\n",
      "                     min_samples_split=10, n_estimators=30, n_jobs=-1), sampling=RandomUnderSampler(random_state=0); total time=   1.9s\n",
      "[CV] END estimator=ExtraTreesClassifier(max_depth=15, max_features=8, min_samples_leaf=7,\n",
      "                     min_samples_split=10, n_estimators=30, n_jobs=-1), sampling=RandomUnderSampler(random_state=0); total time=   1.9s\n",
      "[CV] END estimator=ExtraTreesClassifier(max_depth=15, max_features=8, min_samples_leaf=7,\n",
      "                     min_samples_split=10, n_estimators=30, n_jobs=-1), sampling=RandomUnderSampler(random_state=0); total time=   1.9s\n",
      "[CV] END estimator=ExtraTreesClassifier(max_depth=15, max_features=8, min_samples_leaf=7,\n",
      "                     min_samples_split=10, n_estimators=30, n_jobs=-1), sampling=SMOTE(random_state=0); total time=  42.2s\n",
      "[CV] END estimator=ExtraTreesClassifier(max_depth=15, max_features=8, min_samples_leaf=7,\n",
      "                     min_samples_split=10, n_estimators=30, n_jobs=-1), sampling=SMOTE(random_state=0); total time=  42.3s\n",
      "[CV] END estimator=ExtraTreesClassifier(max_depth=15, max_features=8, min_samples_leaf=7,\n",
      "                     min_samples_split=10, n_estimators=30, n_jobs=-1), sampling=SMOTE(random_state=0); total time=  41.8s\n",
      "[CV] END estimator=ExtraTreesClassifier(max_depth=15, max_features=8, min_samples_leaf=7,\n",
      "                     min_samples_split=10, n_estimators=30, n_jobs=-1), sampling=SMOTE(random_state=0); total time=  40.9s\n",
      "[CV] END estimator=ExtraTreesClassifier(max_depth=15, max_features=8, min_samples_leaf=7,\n",
      "                     min_samples_split=10, n_estimators=30, n_jobs=-1), sampling=SMOTE(random_state=0); total time=  41.6s\n",
      "[CV] END estimator=RandomForestClassifier(max_depth=15, min_samples_leaf=7, min_samples_split=5,\n",
      "                       n_estimators=50, n_jobs=-1), sampling=RandomUnderSampler(random_state=0); total time=   2.7s\n",
      "[CV] END estimator=RandomForestClassifier(max_depth=15, min_samples_leaf=7, min_samples_split=5,\n",
      "                       n_estimators=50, n_jobs=-1), sampling=RandomUnderSampler(random_state=0); total time=   2.7s\n",
      "[CV] END estimator=RandomForestClassifier(max_depth=15, min_samples_leaf=7, min_samples_split=5,\n",
      "                       n_estimators=50, n_jobs=-1), sampling=RandomUnderSampler(random_state=0); total time=   2.7s\n",
      "[CV] END estimator=RandomForestClassifier(max_depth=15, min_samples_leaf=7, min_samples_split=5,\n",
      "                       n_estimators=50, n_jobs=-1), sampling=RandomUnderSampler(random_state=0); total time=   2.7s\n",
      "[CV] END estimator=RandomForestClassifier(max_depth=15, min_samples_leaf=7, min_samples_split=5,\n",
      "                       n_estimators=50, n_jobs=-1), sampling=RandomUnderSampler(random_state=0); total time=   2.7s\n",
      "[CV] END estimator=RandomForestClassifier(max_depth=15, min_samples_leaf=7, min_samples_split=5,\n",
      "                       n_estimators=50, n_jobs=-1), sampling=SMOTE(random_state=0); total time= 1.5min\n",
      "[CV] END estimator=RandomForestClassifier(max_depth=15, min_samples_leaf=7, min_samples_split=5,\n",
      "                       n_estimators=50, n_jobs=-1), sampling=SMOTE(random_state=0); total time= 1.6min\n",
      "[CV] END estimator=RandomForestClassifier(max_depth=15, min_samples_leaf=7, min_samples_split=5,\n",
      "                       n_estimators=50, n_jobs=-1), sampling=SMOTE(random_state=0); total time= 1.5min\n",
      "[CV] END estimator=RandomForestClassifier(max_depth=15, min_samples_leaf=7, min_samples_split=5,\n",
      "                       n_estimators=50, n_jobs=-1), sampling=SMOTE(random_state=0); total time= 1.4min\n",
      "[CV] END estimator=RandomForestClassifier(max_depth=15, min_samples_leaf=7, min_samples_split=5,\n",
      "                       n_estimators=50, n_jobs=-1), sampling=SMOTE(random_state=0); total time= 1.4min\n",
      "GRID SEARCH COMPLETE\n"
     ]
    }
   ],
   "source": [
    "pipe = imbPipe.Pipeline(steps=[('prep', prep),\n",
    "                               ('sampling', DummyTransformer()),\n",
    "                               ('estimator', DummyEstimator())])\n",
    "\n",
    "# test one oversampler and one undersampler\n",
    "sampling = [RandomUnderSampler(random_state=0), SMOTE(random_state=0)]\n",
    "\n",
    "\n",
    "# create search space on sampling techniques for candidate models\n",
    "search_space = []\n",
    "\n",
    "for model in candidate_models:\n",
    "  \n",
    "  m_search_space = {}\n",
    "\n",
    "  # get model type\n",
    "  m = model.pop('estimator')\n",
    "  \n",
    "  # delete bootstrap from hyperparam, so model defaults to bootstrapping\n",
    "  if not model.get('estimator__bootstrap', None):\n",
    "    model.pop('estimator__bootstrap')\n",
    "  \n",
    "  # delete class balance, as that will be resolved by sampling\n",
    "  if not model.get('estimator__bootstrap', None):\n",
    "    model.pop('estimator__class_weight')\n",
    "  \n",
    "  # make existing into list for grid search\n",
    "  hps = {}\n",
    "  for key, val in model.items():\n",
    "    hp = key.replace('estimator__','')\n",
    "    hps[hp] = val  \n",
    "  \n",
    "  m.set_params(**hps)\n",
    "  \n",
    "  m_search_space['sampling'] = sampling\n",
    "  m_search_space['estimator'] = [m]\n",
    "\n",
    "  search_space.append(m_search_space)\n",
    "\n",
    "\n",
    "# evaluation metrics\n",
    "scoring =['recall', 'precision', 'f1', 'roc_auc']\n",
    "\n",
    "# random grid search across models and their hyperparms\n",
    "grid_cv = GridSearchCV(estimator=pipe, \n",
    "                       param_grid=search_space, \n",
    "                       scoring=scoring,\n",
    "                       cv=5,\n",
    "                       verbose=2,\n",
    "                       refit=False\n",
    "                      )\n",
    "\n",
    "grid_cv.fit(X_train, y_train) \n",
    "print('PARAM GRID SEARCH COMPLETE')"
   ]
  },
  {
   "cell_type": "code",
   "execution_count": null,
   "metadata": {
    "id": "mEb6UfNh_ioa"
   },
   "outputs": [],
   "source": [
    "# get models' mean ranking across all 4 evaluation metrics\n",
    "grid = pd.DataFrame(grid_cv.cv_results_)\n",
    "\n",
    "# calcualte mean ranking across scores for each model\n",
    "grid['rank_mean'] = grid[['rank_test_recall',\n",
    "                          'rank_test_precision', \n",
    "                          'rank_test_f1', \n",
    "                          'rank_test_roc_auc']].mean(axis=1)"
   ]
  },
  {
   "cell_type": "markdown",
   "metadata": {
    "id": "kdyonPU5DIJN"
   },
   "source": [
    "## Plot cross-validation metrics across candidate models"
   ]
  },
  {
   "cell_type": "code",
   "execution_count": 9,
   "metadata": {
    "colab": {
     "base_uri": "https://localhost:8080/",
     "height": 298
    },
    "id": "CG6yTEjgFPtd",
    "outputId": "423e38b7-c62c-4590-81f6-24175a7a0098"
   },
   "outputs": [
    {
     "data": {
      "image/png": "[encoded data removed]",
      "text/plain": [
       "<Figure size 432x288 with 1 Axes>"
      ]
     },
     "metadata": {
      "image/png": {
       "height": 280,
       "width": 425
      },
      "needs_background": "light",
      "tags": []
     },
     "output_type": "display_data"
    }
   ],
   "source": [
    "# hide the right and top spines\n",
    "plt.gca().spines['right'].set_visible(False)\n",
    "plt.gca().spines['top'].set_visible(False)\n",
    "\n",
    "plt.plot(grid.index, grid.mean_test_recall,'o:',  color='#58508d', )\n",
    "plt.plot(grid.index, grid.mean_test_precision, 'o:', color='#bc5090')\n",
    "plt.plot(grid.index, grid.mean_test_f1, 'o:', color='#ff6361')\n",
    "plt.plot(grid.index, grid.mean_test_roc_auc, 'o:', color='#ffa600')\n",
    "\n",
    "plt.xlabel('Model Id')\n",
    "plt.ylabel('Metric score')\n",
    "plt.xticks(grid.index.values)\n",
    "plt.yticks(np.linspace(0,1,6))\n",
    "\n",
    "# label each line with right metric name\n",
    "label_name = ['Recall', 'Precision','F1','ROC_AUC']\n",
    "color = ['#58508d','#bc5090','#ff6361','#ff9900']\n",
    "for i, metric in enumerate(['mean_test_recall', 'mean_test_precision','mean_test_f1','mean_test_roc_auc']):\n",
    "  plt.text(9.3, grid[grid.index==9][metric]-0.02, label_name[i], color=color[i], fontsize=12)\n",
    "\n",
    "plt.title('CV Mean Metric Scores for Candidate Models\\n',fontsize=16, loc='right')\n",
    "plt.tight_layout()\n",
    "plt.show()\n"
   ]
  },
  {
   "cell_type": "markdown",
   "metadata": {
    "id": "dJnXqFYnHbjY"
   },
   "source": [
    "### Model 5 had the best overall ranking. \n",
    "The old rivalry between precision and recall are exemplified in this chart. You get very good recall in exchange for terrible precision, or you get mediocre recall for not-so-terrible-but-not-so-great precision. Overall, this suggests considerable overlap between the distributions of white and ransomware account."
   ]
  },
  {
   "cell_type": "code",
   "execution_count": null,
   "metadata": {
    "colab": {
     "base_uri": "https://localhost:8080/"
    },
    "id": "D6Bj-YZr3v2j",
    "outputId": "70972de8-fa19-4c12-8ec8-89d5b77007c3"
   },
   "outputs": [
    {
     "name": "stdout",
     "output_type": "stream",
     "text": [
      "We have a winner 🎉\n"
     ]
    },
    {
     "data": {
      "text/plain": [
       "array([{'estimator': RandomForestClassifier(max_depth=15, max_features=8, min_samples_leaf=3,\n",
       "                       n_estimators=50, n_jobs=-1), 'sampling': RandomUnderSampler(random_state=0)}],\n",
       "      dtype=object)"
      ]
     },
     "execution_count": 30,
     "metadata": {
      "tags": []
     },
     "output_type": "execute_result"
    }
   ],
   "source": [
    "print('We have a winner 🎉')\n",
    "grid.sort_values('rank_mean').head(1)['params'].values[0]"
   ]
  },
  {
   "cell_type": "markdown",
   "metadata": {
    "id": "XQjsictpD8HN"
   },
   "source": [
    "### Note\n",
    "Final model in section below may be different from what's printed above. This is to be expected from random grip search."
   ]
  },
  {
   "cell_type": "markdown",
   "metadata": {
    "id": "a37jqQlDIAyI"
   },
   "source": [
    "# Final Model\n",
    "### RandomForestClassifier(min_samples_leaf=7, n_estimators=30)\n",
    "7 minimum samples at leaf node is a good measure to prevent overfitting, while limiting trees to 30 suggests there is a diminishing return in accuracy to train more trees beyond 30.\n",
    "\n",
    "\n",
    "\n"
   ]
  },
  {
   "cell_type": "code",
   "execution_count": 142,
   "metadata": {
    "colab": {
     "base_uri": "https://localhost:8080/"
    },
    "id": "Buzr3KngNdWt",
    "outputId": "c9f21ab6-14f0-4ee8-afc0-231fb84df8a7"
   },
   "outputs": [
    {
     "name": "stderr",
     "output_type": "stream",
     "text": [
      "/usr/local/lib/python3.7/dist-packages/sklearn/utils/deprecation.py:87: FutureWarning: Function safe_indexing is deprecated; safe_indexing is deprecated in version 0.22 and will be removed in version 0.24.\n",
      "  warnings.warn(msg, category=FutureWarning)\n"
     ]
    }
   ],
   "source": [
    "sampling_method = RandomUnderSampler()\n",
    "\n",
    "model = RandomForestClassifier(min_samples_leaf=7, n_estimators=30, n_jobs=-1)\n",
    "\n",
    "pipe = imbPipe.Pipeline(steps=[('prep', prep),\n",
    "                               ('sampling', sampling_method),\n",
    "                               ('estimator', model)\n",
    "                               ])\n",
    "\n",
    "pipe.fit(X_train, y_train)\n",
    "\n",
    "# evaluate model against test\n",
    "pred = pipe.predict(X_test)\n",
    "pred_prob = pipe.predict_proba(X_test)[:, 1]"
   ]
  },
  {
   "cell_type": "markdown",
   "metadata": {
    "id": "pkEjItxADgsU"
   },
   "source": [
    "# Evaluate model against test dataset"
   ]
  },
  {
   "cell_type": "code",
   "execution_count": 171,
   "metadata": {
    "colab": {
     "base_uri": "https://localhost:8080/",
     "height": 209
    },
    "id": "ttJcEQWRbsMN",
    "outputId": "0cae4c9c-0424-4ce4-8695-aaa64ea8833b"
   },
   "outputs": [
    {
     "name": "stdout",
     "output_type": "stream",
     "text": [
      "Confusion matrix\n"
     ]
    },
    {
     "data": {
      "text/html": [
       "<div>\n",
       "<style scoped>\n",
       "    .dataframe tbody tr th:only-of-type {\n",
       "        vertical-align: middle;\n",
       "    }\n",
       "\n",
       "    .dataframe tbody tr th {\n",
       "        vertical-align: top;\n",
       "    }\n",
       "\n",
       "    .dataframe thead th {\n",
       "        text-align: right;\n",
       "    }\n",
       "</style>\n",
       "<table border=\"1\" class=\"dataframe\">\n",
       "  <thead>\n",
       "    <tr style=\"text-align: right;\">\n",
       "      <th></th>\n",
       "      <th>0</th>\n",
       "      <th>1</th>\n",
       "    </tr>\n",
       "  </thead>\n",
       "  <tbody>\n",
       "    <tr>\n",
       "      <th>0</th>\n",
       "      <td>96135</td>\n",
       "      <td>18876</td>\n",
       "    </tr>\n",
       "    <tr>\n",
       "      <th>1</th>\n",
       "      <td>195</td>\n",
       "      <td>1462</td>\n",
       "    </tr>\n",
       "  </tbody>\n",
       "</table>\n",
       "</div>"
      ],
      "text/plain": [
       "       0      1\n",
       "0  96135  18876\n",
       "1    195   1462"
      ]
     },
     "metadata": {
      "tags": []
     },
     "output_type": "display_data"
    },
    {
     "name": "stdout",
     "output_type": "stream",
     "text": [
      "\n",
      "Recall:       0.88\n",
      "Precision:    0.07\n",
      "F1:           0.13\n",
      "ROC/AUC:      0.94\n"
     ]
    }
   ],
   "source": [
    "cf = confusion_matrix(y_test, pred)\n",
    "f1 = f1_score(y_test, pred)\n",
    "recall = recall_score(y_test, pred)\n",
    "precision = precision_score(y_test, pred)\n",
    "auc = roc_auc_score(y_test, pred_prob)\n",
    "\n",
    "print('Confusion matrix')\n",
    "display(pd.DataFrame(cf, columns=[0,1]))\n",
    "print()\n",
    "print(f'{\"Recall:\":<12} {recall:>5.2f}',\n",
    "      f'{\"Precision:\":<12} {precision:>5.2f}',\n",
    "      f'{\"F1:\":<12} {f1:>5.2f}',\n",
    "      f'{\"ROC/AUC:\":<12} {auc:>5.2f}',\n",
    "      sep='\\n')"
   ]
  },
  {
   "cell_type": "markdown",
   "metadata": {
    "id": "c6KS6IzwE9PP"
   },
   "source": [
    "# Feature importance on the test dataset"
   ]
  },
  {
   "cell_type": "code",
   "execution_count": 143,
   "metadata": {
    "colab": {
     "base_uri": "https://localhost:8080/",
     "height": 280
    },
    "id": "h_6O3MzvDAVM",
    "outputId": "4927629c-476a-4a82-f5a2-7dba6cf02943"
   },
   "outputs": [
    {
     "data": {
      "image/png": "[encoded data removed]",
      "text/plain": [
       "<Figure size 432x288 with 1 Axes>"
      ]
     },
     "metadata": {
      "image/png": {
       "height": 263,
       "width": 414
      },
      "needs_background": "light",
      "tags": []
     },
     "output_type": "display_data"
    }
   ],
   "source": [
    "result = permutation_importance(pipe, X_test, y_test, n_jobs=-1)\n",
    "\n",
    "sort_idx = result.importances_mean.argsort()\n",
    "\n",
    "fig, ax = plt.subplots()\n",
    "ax.boxplot(result.importances[sort_idx].T,\n",
    "           vert=False, labels=X_test.columns[sort_idx])\n",
    "ax.set_title(\"Feature importance on test set (by permutation) \")\n",
    "plt.show()"
   ]
  },
  {
   "cell_type": "markdown",
   "metadata": {
    "id": "HJU2LndgcoH4"
   },
   "source": [
    "# Summary \n",
    "In highly unregulated and open money markets like Bitcoin, transaction details are often publically available. The large data repertoire enables automated crime monitoring processes by leveraging machine learning. Although my model didn't achieve very desirable results, it gave a glimpse into the law enforcement capabilities of AI.\n",
    "\n",
    "My final model was very good at identifying ransomeware accounts, but it came at the cost of mislabelling many white accounts as ransomeware. \n",
    "\n",
    "It was surprising to see that despite decent precision scores during cross validation (0.4), the model performed significantly worser in the test set (precision score = 0.07). However, other metric scores conformed to patterns found in the validation step. \n",
    "\n",
    "\n",
    "## Possible next steps:\n",
    "* Attempt learning models with the entire dataset. Only 20% of the actual dataset was used for this project due to computation limitations.\n",
    "* Scrap more bitcoin-related data to provide new information to the model.\n",
    "\n"
   ]
  },
  {
   "cell_type": "code",
   "execution_count": null,
   "metadata": {
    "id": "zBbmddrkR8ND"
   },
   "outputs": [],
   "source": []
  }
 ],
 "metadata": {
  "colab": {
   "collapsed_sections": [],
   "name": "bitcoin-heist-ml.ipynb",
   "provenance": []
  },
  "kernelspec": {
   "display_name": "Python 3",
   "language": "python",
   "name": "python3"
  },
  "language_info": {
   "codemirror_mode": {
    "name": "ipython",
    "version": 3
   },
   "file_extension": ".py",
   "mimetype": "text/x-python",
   "name": "python",
   "nbconvert_exporter": "python",
   "pygments_lexer": "ipython3",
   "version": "3.8.5"
  }
 },
 "nbformat": 4,
 "nbformat_minor": 4
}
